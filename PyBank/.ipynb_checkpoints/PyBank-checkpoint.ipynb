{
 "cells": [
  {
   "cell_type": "code",
   "execution_count": 154,
   "metadata": {},
   "outputs": [],
   "source": [
    "import pandas as pd\n",
    "from pathlib import Path\n",
    "import numpy as np\n",
    "%matplotlib inline"
   ]
  },
  {
   "cell_type": "code",
   "execution_count": 155,
   "metadata": {},
   "outputs": [
    {
     "data": {
      "text/html": [
       "<div>\n",
       "<style scoped>\n",
       "    .dataframe tbody tr th:only-of-type {\n",
       "        vertical-align: middle;\n",
       "    }\n",
       "\n",
       "    .dataframe tbody tr th {\n",
       "        vertical-align: top;\n",
       "    }\n",
       "\n",
       "    .dataframe thead th {\n",
       "        text-align: right;\n",
       "    }\n",
       "</style>\n",
       "<table border=\"1\" class=\"dataframe\">\n",
       "  <thead>\n",
       "    <tr style=\"text-align: right;\">\n",
       "      <th></th>\n",
       "      <th>Date</th>\n",
       "      <th>Profit/Losses</th>\n",
       "    </tr>\n",
       "  </thead>\n",
       "  <tbody>\n",
       "    <tr>\n",
       "      <td>0</td>\n",
       "      <td>Jan-2010</td>\n",
       "      <td>867884</td>\n",
       "    </tr>\n",
       "    <tr>\n",
       "      <td>1</td>\n",
       "      <td>Feb-2010</td>\n",
       "      <td>984655</td>\n",
       "    </tr>\n",
       "    <tr>\n",
       "      <td>2</td>\n",
       "      <td>Mar-2010</td>\n",
       "      <td>322013</td>\n",
       "    </tr>\n",
       "    <tr>\n",
       "      <td>3</td>\n",
       "      <td>Apr-2010</td>\n",
       "      <td>-69417</td>\n",
       "    </tr>\n",
       "    <tr>\n",
       "      <td>4</td>\n",
       "      <td>May-2010</td>\n",
       "      <td>310503</td>\n",
       "    </tr>\n",
       "    <tr>\n",
       "      <td>...</td>\n",
       "      <td>...</td>\n",
       "      <td>...</td>\n",
       "    </tr>\n",
       "    <tr>\n",
       "      <td>81</td>\n",
       "      <td>Oct-2016</td>\n",
       "      <td>102685</td>\n",
       "    </tr>\n",
       "    <tr>\n",
       "      <td>82</td>\n",
       "      <td>Nov-2016</td>\n",
       "      <td>795914</td>\n",
       "    </tr>\n",
       "    <tr>\n",
       "      <td>83</td>\n",
       "      <td>Dec-2016</td>\n",
       "      <td>60988</td>\n",
       "    </tr>\n",
       "    <tr>\n",
       "      <td>84</td>\n",
       "      <td>Jan-2017</td>\n",
       "      <td>138230</td>\n",
       "    </tr>\n",
       "    <tr>\n",
       "      <td>85</td>\n",
       "      <td>Feb-2017</td>\n",
       "      <td>671099</td>\n",
       "    </tr>\n",
       "  </tbody>\n",
       "</table>\n",
       "<p>86 rows × 2 columns</p>\n",
       "</div>"
      ],
      "text/plain": [
       "        Date  Profit/Losses\n",
       "0   Jan-2010         867884\n",
       "1   Feb-2010         984655\n",
       "2   Mar-2010         322013\n",
       "3   Apr-2010         -69417\n",
       "4   May-2010         310503\n",
       "..       ...            ...\n",
       "81  Oct-2016         102685\n",
       "82  Nov-2016         795914\n",
       "83  Dec-2016          60988\n",
       "84  Jan-2017         138230\n",
       "85  Feb-2017         671099\n",
       "\n",
       "[86 rows x 2 columns]"
      ]
     },
     "execution_count": 155,
     "metadata": {},
     "output_type": "execute_result"
    }
   ],
   "source": [
    "budget_data = Path(\"Resources/budget_data.csv\")\n",
    "budget = pd.read_csv(budget_data)\n",
    "budget"
   ]
  },
  {
   "cell_type": "code",
   "execution_count": 212,
   "metadata": {},
   "outputs": [
    {
     "name": "stdout",
     "output_type": "stream",
     "text": [
      "['Date', 'Profit/Losses']\n",
      "['Date', 'Profit/Losses', 'Average']\n"
     ]
    },
    {
     "ename": "IndexError",
     "evalue": "list index out of range",
     "output_type": "error",
     "traceback": [
      "\u001b[1;31m---------------------------------------------------------------------------\u001b[0m",
      "\u001b[1;31mIndexError\u001b[0m                                Traceback (most recent call last)",
      "\u001b[1;32m<ipython-input-212-c47323a4360e>\u001b[0m in \u001b[0;36m<module>\u001b[1;34m\u001b[0m\n\u001b[0;32m     15\u001b[0m     \u001b[0mname\u001b[0m \u001b[1;33m=\u001b[0m \u001b[0mrow\u001b[0m\u001b[1;33m[\u001b[0m\u001b[1;36m0\u001b[0m\u001b[1;33m]\u001b[0m\u001b[1;33m\u001b[0m\u001b[1;33m\u001b[0m\u001b[0m\n\u001b[0;32m     16\u001b[0m     \u001b[0mcount\u001b[0m \u001b[1;33m=\u001b[0m \u001b[0mint\u001b[0m\u001b[1;33m(\u001b[0m\u001b[0mrow\u001b[0m\u001b[1;33m[\u001b[0m\u001b[1;36m1\u001b[0m\u001b[1;33m]\u001b[0m\u001b[1;33m)\u001b[0m\u001b[1;33m\u001b[0m\u001b[1;33m\u001b[0m\u001b[0m\n\u001b[1;32m---> 17\u001b[1;33m     \u001b[0mprint\u001b[0m\u001b[1;33m(\u001b[0m\u001b[0mrow\u001b[0m\u001b[1;33m[\u001b[0m\u001b[1;36m2\u001b[0m\u001b[1;33m]\u001b[0m\u001b[1;33m)\u001b[0m\u001b[1;33m\u001b[0m\u001b[1;33m\u001b[0m\u001b[0m\n\u001b[0m\u001b[0;32m     18\u001b[0m     \u001b[0mrevenue\u001b[0m \u001b[1;33m=\u001b[0m \u001b[0mint\u001b[0m\u001b[1;33m(\u001b[0m\u001b[0mrow\u001b[0m\u001b[1;33m[\u001b[0m\u001b[1;36m2\u001b[0m\u001b[1;33m]\u001b[0m\u001b[1;33m)\u001b[0m\u001b[1;33m\u001b[0m\u001b[1;33m\u001b[0m\u001b[0m\n\u001b[0;32m     19\u001b[0m \u001b[1;33m\u001b[0m\u001b[0m\n",
      "\u001b[1;31mIndexError\u001b[0m: list index out of range"
     ]
    }
   ],
   "source": [
    "from pathlib import Path\n",
    "import csv\n",
    "\n",
    "csvpath = Path(\"Resources/budget_data.csv\")\n",
    "records = []\n",
    "\n",
    "with open(csvpath, 'r') as csvfile:\n",
    "    csvreader = csv.reader(csvfile, delimiter=',')\n",
    "    csv_header = next(csvreader)\n",
    "    print(csv_header)\n",
    "    csv_header.append(\"Average\")\n",
    "    records.append(csv_header)\n",
    "    print(csv_header)\n",
    "    \n",
    "    name = row[0]\n",
    "    count = int(row[1])\n",
    "    print(row[2])\n",
    "    revenue = int(row[2])\n",
    "    \n",
    "    for row in csvreader:\n",
    "        print(row)\n",
    "        \n",
    "    average = round(revenue/count,2)\n",
    "    \n",
    "    row.append(average)\n",
    "    records.append(row)\n",
    "    \n",
    "print(records)"
   ]
  },
  {
   "cell_type": "code",
   "execution_count": 141,
   "metadata": {},
   "outputs": [],
   "source": [
    "total_months = budget['Date'].count()"
   ]
  },
  {
   "cell_type": "code",
   "execution_count": 142,
   "metadata": {},
   "outputs": [
    {
     "name": "stdout",
     "output_type": "stream",
     "text": [
      "Total Months: 86\n"
     ]
    }
   ],
   "source": [
    "print(f\"Total Months: {total_months}\")"
   ]
  },
  {
   "cell_type": "code",
   "execution_count": 143,
   "metadata": {},
   "outputs": [],
   "source": [
    "total = budget['Profit/Losses'].sum()"
   ]
  },
  {
   "cell_type": "code",
   "execution_count": 144,
   "metadata": {},
   "outputs": [
    {
     "name": "stdout",
     "output_type": "stream",
     "text": [
      "Total: 38382578\n"
     ]
    }
   ],
   "source": [
    "print(f\"Total: {total}\")"
   ]
  },
  {
   "cell_type": "code",
   "execution_count": 145,
   "metadata": {},
   "outputs": [
    {
     "name": "stdout",
     "output_type": "stream",
     "text": [
      "0\n",
      "1\n",
      "2\n",
      "3\n",
      "4\n",
      "5\n",
      "6\n",
      "7\n",
      "8\n",
      "9\n",
      "10\n",
      "11\n",
      "12\n",
      "13\n",
      "14\n",
      "15\n",
      "16\n",
      "17\n",
      "18\n",
      "19\n",
      "20\n",
      "21\n",
      "22\n",
      "23\n",
      "24\n",
      "25\n",
      "26\n",
      "27\n",
      "28\n",
      "29\n",
      "30\n",
      "31\n",
      "32\n",
      "33\n",
      "34\n",
      "35\n",
      "36\n",
      "37\n",
      "38\n",
      "39\n",
      "40\n",
      "41\n",
      "42\n",
      "43\n",
      "44\n",
      "45\n",
      "46\n",
      "47\n",
      "48\n",
      "49\n",
      "50\n",
      "51\n",
      "52\n",
      "53\n",
      "54\n",
      "55\n",
      "56\n",
      "57\n",
      "58\n",
      "59\n",
      "60\n",
      "61\n",
      "62\n",
      "63\n",
      "64\n",
      "65\n",
      "66\n",
      "67\n",
      "68\n",
      "69\n",
      "70\n",
      "71\n",
      "72\n",
      "73\n",
      "74\n",
      "75\n",
      "76\n",
      "77\n",
      "78\n",
      "79\n",
      "80\n",
      "81\n",
      "82\n",
      "83\n",
      "84\n",
      "85\n",
      "116771\n",
      "116771\n",
      "116771\n",
      "116771\n",
      "116771\n",
      "116771\n",
      "116771\n",
      "116771\n",
      "116771\n",
      "116771\n",
      "116771\n",
      "116771\n",
      "116771\n",
      "116771\n",
      "116771\n",
      "116771\n",
      "116771\n",
      "116771\n",
      "116771\n",
      "116771\n",
      "116771\n",
      "116771\n",
      "116771\n",
      "116771\n",
      "116771\n",
      "116771\n",
      "116771\n",
      "116771\n",
      "116771\n",
      "116771\n",
      "116771\n",
      "116771\n",
      "116771\n",
      "116771\n",
      "116771\n",
      "116771\n",
      "116771\n",
      "116771\n",
      "116771\n",
      "116771\n",
      "116771\n",
      "116771\n",
      "116771\n",
      "116771\n",
      "116771\n",
      "116771\n",
      "116771\n",
      "116771\n",
      "116771\n",
      "116771\n",
      "116771\n",
      "116771\n",
      "116771\n",
      "116771\n",
      "116771\n",
      "116771\n",
      "116771\n",
      "116771\n",
      "116771\n",
      "116771\n",
      "116771\n",
      "116771\n",
      "116771\n",
      "116771\n",
      "116771\n",
      "116771\n",
      "116771\n",
      "116771\n",
      "116771\n",
      "116771\n",
      "116771\n",
      "116771\n",
      "116771\n",
      "116771\n",
      "116771\n",
      "116771\n",
      "116771\n",
      "116771\n",
      "116771\n",
      "116771\n",
      "116771\n",
      "116771\n",
      "116771\n",
      "116771\n",
      "116771\n",
      "116771\n",
      "[]\n",
      "0     867884\n",
      "1     984655\n",
      "2     322013\n",
      "3     -69417\n",
      "4     310503\n",
      "       ...  \n",
      "81    102685\n",
      "82    795914\n",
      "83     60988\n",
      "84    138230\n",
      "85    671099\n",
      "Name: Profit/Losses, Length: 86, dtype: int64\n"
     ]
    }
   ],
   "source": [
    "# average revenue change\n",
    "pl_raw = budget['Profit/Losses']\n",
    "pl = pl_raw.to_list()\n",
    "\n",
    "change = []\n",
    "\n",
    "#i = -1\n",
    "#j = 1\n",
    "x = -1\n",
    "\n",
    "for i in range(total_months):\n",
    "    #delta += pl_raw[i] - pl_raw[i - 1]\n",
    "    #change.append(delta)\n",
    "    x += i - (i-1)\n",
    "    #print(i)\n",
    "    #print(j)\n",
    "    #print(i-i)\n",
    "    print(x)\n",
    "\n",
    "\n",
    "'''\n",
    "i = 1\n",
    "for i in range(total_months):\n",
    "    change += int(pl_raw[i]) - int(pl_raw[i-i])\n",
    "    i += i\n",
    "'''\n",
    "\n",
    "for i in range(total_months):\n",
    "    print(pl_raw[1]-pl_raw[0])\n",
    "    i += 1\n",
    "\n",
    "print(change)\n",
    "print(pl_raw)\n",
    "\n",
    "#avg_change = sum(change) / len(change)\n",
    "#print(f\"Average Change: {}\")"
   ]
  },
  {
   "cell_type": "code",
   "execution_count": 116,
   "metadata": {},
   "outputs": [
    {
     "name": "stdout",
     "output_type": "stream",
     "text": [
      "-36255446\n",
      "-421574.9534883721\n"
     ]
    }
   ],
   "source": [
    "change = 0\n",
    "\n",
    "i = 1\n",
    "\n",
    "for i in range(total_months):\n",
    "    change += pl_raw[i] - pl_raw[i-i]\n",
    "    #i +=1\n",
    "    \n",
    "print(change)\n",
    "avg_change = change / total_months\n",
    "print(avg_change)"
   ]
  },
  {
   "cell_type": "code",
   "execution_count": 119,
   "metadata": {},
   "outputs": [
    {
     "data": {
      "text/plain": [
       "38382578"
      ]
     },
     "execution_count": 119,
     "metadata": {},
     "output_type": "execute_result"
    }
   ],
   "source": [
    "pl_total = 0\n",
    "for i in pl:\n",
    "    pl_total += int(i)\n",
    "    \n",
    "pl_total"
   ]
  },
  {
   "cell_type": "code",
   "execution_count": 138,
   "metadata": {},
   "outputs": [
    {
     "name": "stdout",
     "output_type": "stream",
     "text": [
      "-36255446\n",
      "-36788315\n"
     ]
    }
   ],
   "source": [
    "total_pl_change = 0\n",
    "\n",
    "i=1\n",
    "for i in range(total_months):\n",
    "    total_pl_change += int(pl_raw[i]) - int(pl_raw[i-i])\n",
    "\n",
    "print(total_pl_change)\n",
    "\n",
    "first_pass = int(pl_raw[i]) - int(pl_raw[i-1])\n",
    "\n",
    "total_pl_change_adj = total_pl_change - first_pass\n",
    "print(total_pl_change_adj)\n",
    "\n",
    "avg_pl_change = (total_pl_change_adj + int(pl_raw[0]))/total_months\n",
    "#avg_pl_change"
   ]
  },
  {
   "cell_type": "code",
   "execution_count": 121,
   "metadata": {},
   "outputs": [
    {
     "data": {
      "text/plain": [
       "range(0, 86)"
      ]
     },
     "execution_count": 121,
     "metadata": {},
     "output_type": "execute_result"
    }
   ],
   "source": [
    "range(total_months)"
   ]
  },
  {
   "cell_type": "code",
   "execution_count": 59,
   "metadata": {},
   "outputs": [
    {
     "ename": "KeyError",
     "evalue": "867884",
     "output_type": "error",
     "traceback": [
      "\u001b[1;31m---------------------------------------------------------------------------\u001b[0m",
      "\u001b[1;31mKeyError\u001b[0m                                  Traceback (most recent call last)",
      "\u001b[1;32m<ipython-input-59-c7bc9b374b49>\u001b[0m in \u001b[0;36m<module>\u001b[1;34m\u001b[0m\n\u001b[0;32m     15\u001b[0m \u001b[0mchange\u001b[0m \u001b[1;33m=\u001b[0m \u001b[1;36m0\u001b[0m\u001b[1;33m\u001b[0m\u001b[1;33m\u001b[0m\u001b[0m\n\u001b[0;32m     16\u001b[0m \u001b[1;32mfor\u001b[0m \u001b[0mi\u001b[0m \u001b[1;32min\u001b[0m \u001b[0mpl\u001b[0m\u001b[1;33m:\u001b[0m\u001b[1;33m\u001b[0m\u001b[1;33m\u001b[0m\u001b[0m\n\u001b[1;32m---> 17\u001b[1;33m     \u001b[0mchange\u001b[0m \u001b[1;33m+=\u001b[0m \u001b[0mint\u001b[0m\u001b[1;33m(\u001b[0m\u001b[0mpl\u001b[0m\u001b[1;33m[\u001b[0m\u001b[0mi\u001b[0m\u001b[1;33m]\u001b[0m\u001b[1;33m)\u001b[0m \u001b[1;33m-\u001b[0m \u001b[0mint\u001b[0m\u001b[1;33m(\u001b[0m\u001b[0mpl\u001b[0m\u001b[1;33m[\u001b[0m\u001b[0mi\u001b[0m \u001b[1;33m-\u001b[0m \u001b[1;36m1\u001b[0m\u001b[1;33m]\u001b[0m\u001b[1;33m)\u001b[0m\u001b[1;33m\u001b[0m\u001b[1;33m\u001b[0m\u001b[0m\n\u001b[0m\u001b[0;32m     18\u001b[0m     \u001b[0mi\u001b[0m \u001b[1;33m+=\u001b[0m \u001b[1;36m1\u001b[0m\u001b[1;33m\u001b[0m\u001b[1;33m\u001b[0m\u001b[0m\n",
      "\u001b[1;32m~\\Anaconda3\\lib\\site-packages\\pandas\\core\\series.py\u001b[0m in \u001b[0;36m__getitem__\u001b[1;34m(self, key)\u001b[0m\n\u001b[0;32m   1066\u001b[0m         \u001b[0mkey\u001b[0m \u001b[1;33m=\u001b[0m \u001b[0mcom\u001b[0m\u001b[1;33m.\u001b[0m\u001b[0mapply_if_callable\u001b[0m\u001b[1;33m(\u001b[0m\u001b[0mkey\u001b[0m\u001b[1;33m,\u001b[0m \u001b[0mself\u001b[0m\u001b[1;33m)\u001b[0m\u001b[1;33m\u001b[0m\u001b[1;33m\u001b[0m\u001b[0m\n\u001b[0;32m   1067\u001b[0m         \u001b[1;32mtry\u001b[0m\u001b[1;33m:\u001b[0m\u001b[1;33m\u001b[0m\u001b[1;33m\u001b[0m\u001b[0m\n\u001b[1;32m-> 1068\u001b[1;33m             \u001b[0mresult\u001b[0m \u001b[1;33m=\u001b[0m \u001b[0mself\u001b[0m\u001b[1;33m.\u001b[0m\u001b[0mindex\u001b[0m\u001b[1;33m.\u001b[0m\u001b[0mget_value\u001b[0m\u001b[1;33m(\u001b[0m\u001b[0mself\u001b[0m\u001b[1;33m,\u001b[0m \u001b[0mkey\u001b[0m\u001b[1;33m)\u001b[0m\u001b[1;33m\u001b[0m\u001b[1;33m\u001b[0m\u001b[0m\n\u001b[0m\u001b[0;32m   1069\u001b[0m \u001b[1;33m\u001b[0m\u001b[0m\n\u001b[0;32m   1070\u001b[0m             \u001b[1;32mif\u001b[0m \u001b[1;32mnot\u001b[0m \u001b[0mis_scalar\u001b[0m\u001b[1;33m(\u001b[0m\u001b[0mresult\u001b[0m\u001b[1;33m)\u001b[0m\u001b[1;33m:\u001b[0m\u001b[1;33m\u001b[0m\u001b[1;33m\u001b[0m\u001b[0m\n",
      "\u001b[1;32m~\\Anaconda3\\lib\\site-packages\\pandas\\core\\indexes\\base.py\u001b[0m in \u001b[0;36mget_value\u001b[1;34m(self, series, key)\u001b[0m\n\u001b[0;32m   4728\u001b[0m         \u001b[0mk\u001b[0m \u001b[1;33m=\u001b[0m \u001b[0mself\u001b[0m\u001b[1;33m.\u001b[0m\u001b[0m_convert_scalar_indexer\u001b[0m\u001b[1;33m(\u001b[0m\u001b[0mk\u001b[0m\u001b[1;33m,\u001b[0m \u001b[0mkind\u001b[0m\u001b[1;33m=\u001b[0m\u001b[1;34m\"getitem\"\u001b[0m\u001b[1;33m)\u001b[0m\u001b[1;33m\u001b[0m\u001b[1;33m\u001b[0m\u001b[0m\n\u001b[0;32m   4729\u001b[0m         \u001b[1;32mtry\u001b[0m\u001b[1;33m:\u001b[0m\u001b[1;33m\u001b[0m\u001b[1;33m\u001b[0m\u001b[0m\n\u001b[1;32m-> 4730\u001b[1;33m             \u001b[1;32mreturn\u001b[0m \u001b[0mself\u001b[0m\u001b[1;33m.\u001b[0m\u001b[0m_engine\u001b[0m\u001b[1;33m.\u001b[0m\u001b[0mget_value\u001b[0m\u001b[1;33m(\u001b[0m\u001b[0ms\u001b[0m\u001b[1;33m,\u001b[0m \u001b[0mk\u001b[0m\u001b[1;33m,\u001b[0m \u001b[0mtz\u001b[0m\u001b[1;33m=\u001b[0m\u001b[0mgetattr\u001b[0m\u001b[1;33m(\u001b[0m\u001b[0mseries\u001b[0m\u001b[1;33m.\u001b[0m\u001b[0mdtype\u001b[0m\u001b[1;33m,\u001b[0m \u001b[1;34m\"tz\"\u001b[0m\u001b[1;33m,\u001b[0m \u001b[1;32mNone\u001b[0m\u001b[1;33m)\u001b[0m\u001b[1;33m)\u001b[0m\u001b[1;33m\u001b[0m\u001b[1;33m\u001b[0m\u001b[0m\n\u001b[0m\u001b[0;32m   4731\u001b[0m         \u001b[1;32mexcept\u001b[0m \u001b[0mKeyError\u001b[0m \u001b[1;32mas\u001b[0m \u001b[0me1\u001b[0m\u001b[1;33m:\u001b[0m\u001b[1;33m\u001b[0m\u001b[1;33m\u001b[0m\u001b[0m\n\u001b[0;32m   4732\u001b[0m             \u001b[1;32mif\u001b[0m \u001b[0mlen\u001b[0m\u001b[1;33m(\u001b[0m\u001b[0mself\u001b[0m\u001b[1;33m)\u001b[0m \u001b[1;33m>\u001b[0m \u001b[1;36m0\u001b[0m \u001b[1;32mand\u001b[0m \u001b[1;33m(\u001b[0m\u001b[0mself\u001b[0m\u001b[1;33m.\u001b[0m\u001b[0mholds_integer\u001b[0m\u001b[1;33m(\u001b[0m\u001b[1;33m)\u001b[0m \u001b[1;32mor\u001b[0m \u001b[0mself\u001b[0m\u001b[1;33m.\u001b[0m\u001b[0mis_boolean\u001b[0m\u001b[1;33m(\u001b[0m\u001b[1;33m)\u001b[0m\u001b[1;33m)\u001b[0m\u001b[1;33m:\u001b[0m\u001b[1;33m\u001b[0m\u001b[1;33m\u001b[0m\u001b[0m\n",
      "\u001b[1;32mpandas\\_libs\\index.pyx\u001b[0m in \u001b[0;36mpandas._libs.index.IndexEngine.get_value\u001b[1;34m()\u001b[0m\n",
      "\u001b[1;32mpandas\\_libs\\index.pyx\u001b[0m in \u001b[0;36mpandas._libs.index.IndexEngine.get_value\u001b[1;34m()\u001b[0m\n",
      "\u001b[1;32mpandas\\_libs\\index.pyx\u001b[0m in \u001b[0;36mpandas._libs.index.IndexEngine.get_loc\u001b[1;34m()\u001b[0m\n",
      "\u001b[1;32mpandas\\_libs\\hashtable_class_helper.pxi\u001b[0m in \u001b[0;36mpandas._libs.hashtable.Int64HashTable.get_item\u001b[1;34m()\u001b[0m\n",
      "\u001b[1;32mpandas\\_libs\\hashtable_class_helper.pxi\u001b[0m in \u001b[0;36mpandas._libs.hashtable.Int64HashTable.get_item\u001b[1;34m()\u001b[0m\n",
      "\u001b[1;31mKeyError\u001b[0m: 867884"
     ]
    }
   ],
   "source": [
    "change = 0\n",
    "\n",
    "pl = budget['Profit/Losses']\n",
    "\n",
    "'''\n",
    "#i = 0\n",
    "\n",
    "for i in pl:\n",
    "    delta = pl[i] - pl[i-1]\n",
    "    change.append(delta)\n",
    "\n",
    "change\n",
    "'''\n",
    "\n",
    "change = 0\n",
    "for i in pl:\n",
    "    change += int(pl[i]) - int(pl[i - 1])\n",
    "    i += 1"
   ]
  },
  {
   "cell_type": "code",
   "execution_count": 62,
   "metadata": {},
   "outputs": [
    {
     "name": "stdout",
     "output_type": "stream",
     "text": [
      "[867884, 984655, 322013, -69417, 310503, 522857, 1033096, 604885, -216386, 477532, 893810, -80353, 779806, -335203, 697845, 793163, 485070, 584122, 62729, 668179, 899906, 834719, 132003, 309978, -755566, 1170593, 252788, 1151518, 817256, 570757, 506702, -1022534, 475062, 779976, 144175, 542494, 359333, 321469, 67780, 471435, 565603, 872480, 789480, 999942, -1196225, 268997, -687986, 1150461, 682458, 617856, 824098, 581943, 132864, 448062, 689161, 800701, 1166643, 947333, 578668, 988505, 1139715, 1029471, 687533, -524626, 158620, 87795, 423389, 840723, 568529, 332067, 989499, 778237, 650000, -1100387, -174946, 757143, 445709, 712961, -1163797, 569899, 768450, 102685, 795914, 60988, 138230, 671099]\n",
      "[867884, 984655, 322013, -69417, 310503, 522857, 1033096, 604885, -216386, 477532, 893810, -80353, 779806, -335203, 697845, 793163, 485070, 584122, 62729, 668179, 899906, 834719, 132003, 309978, -755566, 1170593, 252788, 1151518, 817256, 570757, 506702, -1022534, 475062, 779976, 144175, 542494, 359333, 321469, 67780, 471435, 565603, 872480, 789480, 999942, -1196225, 268997, -687986, 1150461, 682458, 617856, 824098, 581943, 132864, 448062, 689161, 800701, 1166643, 947333, 578668, 988505, 1139715, 1029471, 687533, -524626, 158620, 87795, 423389, 840723, 568529, 332067, 989499, 778237, 650000, -1100387, -174946, 757143, 445709, 712961, -1163797, 569899, 768450, 102685, 795914, 60988, 138230, 671099]\n"
     ]
    }
   ],
   "source": [
    "change = []\n",
    "\n",
    "pl_increases = []\n",
    "pl_decreases = []\n",
    "\n",
    "for i in budget['Profit/Losses']:\n",
    "    if budget['Profit/Losses'][1] - budget['Profit/Losses'][0] > 0:\n",
    "        pl_increases.append(i)\n",
    "    else:\n",
    "        pl_decreases.append(i)\n",
    "    i += 1\n",
    "    \n",
    "print(pl_increases)\n",
    "print(pl_increases)"
   ]
  },
  {
   "cell_type": "code",
   "execution_count": 30,
   "metadata": {},
   "outputs": [
    {
     "name": "stdout",
     "output_type": "stream",
     "text": [
      "Financial Analysis\n",
      "------------------------------\n",
      "Total Months: 86\n",
      "Total: 38382578\n",
      "Average Change: \n"
     ]
    }
   ],
   "source": [
    "print(F\"Financial Analysis\\n------------------------------\\nTotal Months: {total_months}\\nTotal: {total}\\nAverage Change: \")"
   ]
  },
  {
   "cell_type": "code",
   "execution_count": 35,
   "metadata": {},
   "outputs": [
    {
     "data": {
      "text/plain": [
       "38382578"
      ]
     },
     "execution_count": 35,
     "metadata": {},
     "output_type": "execute_result"
    }
   ],
   "source": [
    "revenue_sum = 0\n",
    "\n",
    "for i in budget['Profit/Losses']:\n",
    "    revenue_sum += int(i)\n",
    "    \n",
    "revenue_sum"
   ]
  },
  {
   "cell_type": "code",
   "execution_count": 73,
   "metadata": {},
   "outputs": [
    {
     "name": "stdout",
     "output_type": "stream",
     "text": [
      "[]\n"
     ]
    }
   ],
   "source": [
    "date, revenue = ([] for i in range(2))\n",
    "\n",
    "    row_num = 0\n",
    "    for row in reader:\n",
    "        date.append(row[0])\n",
    "        revenue.append(row[1])\n",
    "        row_num += 1\n",
    "\n",
    "print(revenue)"
   ]
  },
  {
   "cell_type": "code",
   "execution_count": 76,
   "metadata": {},
   "outputs": [
    {
     "name": "stdout",
     "output_type": "stream",
     "text": [
      "Help on built-in function next in module builtins:\n",
      "\n",
      "next(...)\n",
      "    next(iterator[, default])\n",
      "    \n",
      "    Return the next item from the iterator. If default is given and the iterator\n",
      "    is exhausted, it is returned instead of raising StopIteration.\n",
      "\n"
     ]
    }
   ],
   "source": [
    "help(next)"
   ]
  },
  {
   "cell_type": "code",
   "execution_count": 199,
   "metadata": {},
   "outputs": [
    {
     "name": "stdout",
     "output_type": "stream",
     "text": [
      "671099 671099\n"
     ]
    }
   ],
   "source": [
    "print(final_profit, initial_profit)"
   ]
  },
  {
   "cell_type": "code",
   "execution_count": 246,
   "metadata": {},
   "outputs": [
    {
     "name": "stdout",
     "output_type": "stream",
     "text": [
      "['867884', '984655', '322013', '-69417', '310503', '522857', '1033096', '604885', '-216386', '477532', '893810', '-80353', '779806', '-335203', '697845', '793163', '485070', '584122', '62729', '668179', '899906', '834719', '132003', '309978', '-755566', '1170593', '252788', '1151518', '817256', '570757', '506702', '-1022534', '475062', '779976', '144175', '542494', '359333', '321469', '67780', '471435', '565603', '872480', '789480', '999942', '-1196225', '268997', '-687986', '1150461', '682458', '617856', '824098', '581943', '132864', '448062', '689161', '800701', '1166643', '947333', '578668', '988505', '1139715', '1029471', '687533', '-524626', '158620', '87795', '423389', '840723', '568529', '332067', '989499', '778237', '650000', '-1100387', '-174946', '757143', '445709', '712961', '-1163797', '569899', '768450', '102685', '795914', '60988', '138230', '671099']\n"
     ]
    }
   ],
   "source": [
    "print(pl)"
   ]
  },
  {
   "cell_type": "code",
   "execution_count": 249,
   "metadata": {},
   "outputs": [
    {
     "name": "stdout",
     "output_type": "stream",
     "text": [
      "671099\n",
      "\n",
      "\n",
      "0\n",
      "\n",
      "\n",
      "671099\n"
     ]
    }
   ],
   "source": [
    "import csv\n",
    "from pathlib import Path\n",
    "\n",
    "pybankcsv = Path(\"Resources/budget_data.csv\")\n",
    "output = Path(\"Resources/budget_output.txt\")\n",
    "\n",
    "pl = []\n",
    "pl_changes = []\n",
    "month = []\n",
    "\n",
    "total_months = 0\n",
    "total = 0\n",
    "total_pl_change = 0\n",
    "initial_pl = 0\n",
    "\n",
    "\n",
    "with open(pybankcsv, newline=\"\") as file_csv:\n",
    "    csv_reader = csv.reader(file_csv, delimiter=\",\")\n",
    "    csv_header = next(csv_reader)\n",
    "    \n",
    "    for row in csv_reader:\n",
    "        total_months += 1\n",
    "        \n",
    "        month.append(row[0])\n",
    "        \n",
    "        pl.append(row[1])\n",
    "        total = total + int(row[1])\n",
    "        \n",
    "        final_pl = int(row[1])\n",
    "        monthly_pl_change = final_pl - initial_pl\n",
    "        \n",
    "        pl_changes.append(monthly_pl_change)\n",
    "        \n",
    "        total_pl_change = total_pl_change + monthly_pl_change\n",
    "        initial_pl = final_pl\n",
    "        \n",
    "        average_change = (total_pl_change/total_months)\n",
    "        \n",
    "        max_pl = max(pl_changes)\n",
    "        min_pl = min(pl_changes)\n",
    "        \n",
    "        max_pl_date = month[pl_changes.index(max_pl)]\n",
    "        min_pl_date = month[pl_changes.index(min_pl)]\n",
    "        \n",
    "print(final_profit)\n",
    "print(\"\\n\")\n",
    "print(initial_profit)\n",
    "print(\"\\n\")\n",
    "print(total_pl_change)\n",
    "#print(monthly_pl_change)"
   ]
  },
  {
   "cell_type": "code",
   "execution_count": 216,
   "metadata": {},
   "outputs": [
    {
     "name": "stdout",
     "output_type": "stream",
     "text": [
      "[867884, 116771, -662642, -391430, 379920, 212354, 510239, -428211, -821271, 693918, 416278, -974163, 860159, -1115009, 1033048, 95318, -308093, 99052, -521393, 605450, 231727, -65187, -702716, 177975, -1065544, 1926159, -917805, 898730, -334262, -246499, -64055, -1529236, 1497596, 304914, -635801, 398319, -183161, -37864, -253689, 403655, 94168, 306877, -83000, 210462, -2196167, 1465222, -956983, 1838447, -468003, -64602, 206242, -242155, -449079, 315198, 241099, 111540, 365942, -219310, -368665, 409837, 151210, -110244, -341938, -1212159, 683246, -70825, 335594, 417334, -272194, -236462, 657432, -211262, -128237, -1750387, 925441, 932089, -311434, 267252, -1876758, 1733696, 198551, -665765, 693229, -734926, 77242, 532869]\n"
     ]
    }
   ],
   "source": [
    "print(monthly_changes)"
   ]
  },
  {
   "cell_type": "code",
   "execution_count": 247,
   "metadata": {},
   "outputs": [
    {
     "name": "stdout",
     "output_type": "stream",
     "text": [
      "['Jan-2010', 'Feb-2010', 'Mar-2010', 'Apr-2010', 'May-2010', 'Jun-2010', 'Jul-2010', 'Aug-2010', 'Sep-2010', 'Oct-2010', 'Nov-2010', 'Dec-2010', 'Jan-2011', 'Feb-2011', 'Mar-2011', 'Apr-2011', 'May-2011', 'Jun-2011', 'Jul-2011', 'Aug-2011', 'Sep-2011', 'Oct-2011', 'Nov-2011', 'Dec-2011', 'Jan-2012', 'Feb-2012', 'Mar-2012', 'Apr-2012', 'May-2012', 'Jun-2012', 'Jul-2012', 'Aug-2012', 'Sep-2012', 'Oct-2012', 'Nov-2012', 'Dec-2012', 'Jan-2013', 'Feb-2013', 'Mar-2013', 'Apr-2013', 'May-2013', 'Jun-2013', 'Jul-2013', 'Aug-2013', 'Sep-2013', 'Oct-2013', 'Nov-2013', 'Dec-2013', 'Jan-2014', 'Feb-2014', 'Mar-2014', 'Apr-2014', 'May-2014', 'Jun-2014', 'Jul-2014', 'Aug-2014', 'Sep-2014', 'Oct-2014', 'Nov-2014', 'Dec-2014', 'Jan-2015', 'Feb-2015', 'Mar-2015', 'Apr-2015', 'May-2015', 'Jun-2015', 'Jul-2015', 'Aug-2015', 'Sep-2015', 'Oct-2015', 'Nov-2015', 'Dec-2015', 'Jan-2016', 'Feb-2016', 'Mar-2016', 'Apr-2016', 'May-2016', 'Jun-2016', 'Jul-2016', 'Aug-2016', 'Sep-2016', 'Oct-2016', 'Nov-2016', 'Dec-2016', 'Jan-2017', 'Feb-2017']\n"
     ]
    }
   ],
   "source": [
    "print(month)"
   ]
  },
  {
   "cell_type": "code",
   "execution_count": 224,
   "metadata": {},
   "outputs": [
    {
     "name": "stdout",
     "output_type": "stream",
     "text": [
      "671099\n"
     ]
    }
   ],
   "source": [
    "print(initial_profit)"
   ]
  },
  {
   "cell_type": "code",
   "execution_count": 248,
   "metadata": {},
   "outputs": [
    {
     "name": "stdout",
     "output_type": "stream",
     "text": [
      "--------------------------------------------------------------\n",
      "Financial Analysis\n",
      "--------------------------------------------------------------\n",
      "Total Months: 86\n",
      "Total: $38382578\n",
      "Average Change: $7803.476744186047\n",
      "Greatest Increase in Profits: Feb-2012 $1926159\n",
      "Greatest Decrease in Profits: Sep-2013 $-2196167\n",
      "--------------------------------------------------------------\n"
     ]
    }
   ],
   "source": [
    "import csv\n",
    "from pathlib import Path\n",
    "\n",
    "pybankcsv = Path(\"Resources/budget_data.csv\")\n",
    "output = Path(\"Resources/budget_output.txt\")\n",
    "\n",
    "pl = []\n",
    "pl_changes = []\n",
    "month = []\n",
    "\n",
    "total_months = 0\n",
    "total = 0\n",
    "total_pl_change = 0\n",
    "initial_pl = 0\n",
    "\n",
    "\n",
    "with open(pybankcsv, newline=\"\") as file_csv:\n",
    "    csv_reader = csv.reader(file_csv, delimiter=\",\")\n",
    "    csv_header = next(csv_reader)\n",
    "    \n",
    "    for row in csv_reader:\n",
    "        total_months += 1\n",
    "        \n",
    "        month.append(row[0])\n",
    "        \n",
    "        pl.append(row[1])\n",
    "        total = total + int(row[1])\n",
    "        \n",
    "        final_pl = int(row[1])\n",
    "        monthly_pl_change = final_pl - initial_pl\n",
    "        \n",
    "        pl_changes.append(monthly_pl_change)\n",
    "        \n",
    "        total_pl_change = total_pl_change + monthly_pl_change\n",
    "        initial_pl = final_pl\n",
    "        \n",
    "        average_change = (total_pl_change/total_months)\n",
    "        \n",
    "        max_pl = max(pl_changes)\n",
    "        min_pl = min(pl_changes)\n",
    "        \n",
    "        max_pl_date = month[pl_changes.index(max_pl)]\n",
    "        min_pl_date = month[pl_changes.index(min_pl)]\n",
    "        \n",
    "    \n",
    "    print(\"--------------------------------------------------------------\")\n",
    "    print(\"Financial Analysis\")\n",
    "    print(\"--------------------------------------------------------------\")\n",
    "    print(f\"Total Months: {total_months}\")\n",
    "    print(f\"Total: ${total}\")\n",
    "    print(f\"Average Change: ${average_change}\")\n",
    "    print(f\"Greatest Increase in Profits: {max_pl_date} ${max_pl}\")\n",
    "    print(f\"Greatest Decrease in Profits: {min_pl_date} ${min_pl}\")\n",
    "    print(\"--------------------------------------------------------------\")\n",
    "    \n",
    "with open(output, 'w') as csvfile:\n",
    "    csvfile.write(\"---------------------------------------------------------\\n\")\n",
    "    csvfile.write(f\"Financial Analysis\\n\")\n",
    "    csvfile.write(\"---------------------------------------------------------\\n\")\n",
    "    csvfile.write(f\"Total Months: {total_months}\\n\")\n",
    "    csvfile.write(f\"Total: {total}\\n\")\n",
    "    csvfile.write(f\"Average Change: ${average_change}\\n\")\n",
    "    csvfile.write(f\"Greatest Increase in Profits: {max_pl_date} ${max_pl}\\n\")\n",
    "    csvfile.write(f\"Greatest Decrease in Profits: {min_pl_date} ${min_pl}\\n\")\n",
    "    csvfile.write(\"---------------------------------------------------------\")"
   ]
  },
  {
   "cell_type": "code",
   "execution_count": 229,
   "metadata": {},
   "outputs": [
    {
     "data": {
      "text/plain": [
       "['Jan-2010',\n",
       " 'Feb-2010',\n",
       " 'Mar-2010',\n",
       " 'Apr-2010',\n",
       " 'May-2010',\n",
       " 'Jun-2010',\n",
       " 'Jul-2010',\n",
       " 'Aug-2010',\n",
       " 'Sep-2010',\n",
       " 'Oct-2010',\n",
       " 'Nov-2010',\n",
       " 'Dec-2010',\n",
       " 'Jan-2011',\n",
       " 'Feb-2011',\n",
       " 'Mar-2011',\n",
       " 'Apr-2011',\n",
       " 'May-2011',\n",
       " 'Jun-2011',\n",
       " 'Jul-2011',\n",
       " 'Aug-2011',\n",
       " 'Sep-2011',\n",
       " 'Oct-2011',\n",
       " 'Nov-2011',\n",
       " 'Dec-2011',\n",
       " 'Jan-2012',\n",
       " 'Feb-2012',\n",
       " 'Mar-2012',\n",
       " 'Apr-2012',\n",
       " 'May-2012',\n",
       " 'Jun-2012',\n",
       " 'Jul-2012',\n",
       " 'Aug-2012',\n",
       " 'Sep-2012',\n",
       " 'Oct-2012',\n",
       " 'Nov-2012',\n",
       " 'Dec-2012',\n",
       " 'Jan-2013',\n",
       " 'Feb-2013',\n",
       " 'Mar-2013',\n",
       " 'Apr-2013',\n",
       " 'May-2013',\n",
       " 'Jun-2013',\n",
       " 'Jul-2013',\n",
       " 'Aug-2013',\n",
       " 'Sep-2013',\n",
       " 'Oct-2013',\n",
       " 'Nov-2013',\n",
       " 'Dec-2013',\n",
       " 'Jan-2014',\n",
       " 'Feb-2014',\n",
       " 'Mar-2014',\n",
       " 'Apr-2014',\n",
       " 'May-2014',\n",
       " 'Jun-2014',\n",
       " 'Jul-2014',\n",
       " 'Aug-2014',\n",
       " 'Sep-2014',\n",
       " 'Oct-2014',\n",
       " 'Nov-2014',\n",
       " 'Dec-2014',\n",
       " 'Jan-2015',\n",
       " 'Feb-2015',\n",
       " 'Mar-2015',\n",
       " 'Apr-2015',\n",
       " 'May-2015',\n",
       " 'Jun-2015',\n",
       " 'Jul-2015',\n",
       " 'Aug-2015',\n",
       " 'Sep-2015',\n",
       " 'Oct-2015',\n",
       " 'Nov-2015',\n",
       " 'Dec-2015',\n",
       " 'Jan-2016',\n",
       " 'Feb-2016',\n",
       " 'Mar-2016',\n",
       " 'Apr-2016',\n",
       " 'May-2016',\n",
       " 'Jun-2016',\n",
       " 'Jul-2016',\n",
       " 'Aug-2016',\n",
       " 'Sep-2016',\n",
       " 'Oct-2016',\n",
       " 'Nov-2016',\n",
       " 'Dec-2016',\n",
       " 'Jan-2017',\n",
       " 'Feb-2017']"
      ]
     },
     "execution_count": 229,
     "metadata": {},
     "output_type": "execute_result"
    }
   ],
   "source": [
    "date"
   ]
  },
  {
   "cell_type": "code",
   "execution_count": 244,
   "metadata": {},
   "outputs": [
    {
     "data": {
      "text/plain": [
       "671099"
      ]
     },
     "execution_count": 244,
     "metadata": {},
     "output_type": "execute_result"
    }
   ],
   "source": [
    "total_pl_change"
   ]
  },
  {
   "cell_type": "code",
   "execution_count": null,
   "metadata": {},
   "outputs": [],
   "source": []
  }
 ],
 "metadata": {
  "kernelspec": {
   "display_name": "Python 3",
   "language": "python",
   "name": "python3"
  },
  "language_info": {
   "codemirror_mode": {
    "name": "ipython",
    "version": 3
   },
   "file_extension": ".py",
   "mimetype": "text/x-python",
   "name": "python",
   "nbconvert_exporter": "python",
   "pygments_lexer": "ipython3",
   "version": "3.7.4"
  }
 },
 "nbformat": 4,
 "nbformat_minor": 4
}
